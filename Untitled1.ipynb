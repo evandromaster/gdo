{
 "cells": [
  {
   "cell_type": "code",
   "execution_count": 12,
   "metadata": {},
   "outputs": [
    {
     "name": "stdout",
     "output_type": "stream",
     "text": [
      "Python is 👍\n"
     ]
    }
   ],
   "source": [
    "import emoji\n",
    "print(emoji.emojize('Python is :thumbs_up:'))"
   ]
  },
  {
   "cell_type": "code",
   "execution_count": 17,
   "metadata": {},
   "outputs": [
    {
     "name": "stdout",
     "output_type": "stream",
     "text": [
      "Python is 😃\n"
     ]
    }
   ],
   "source": [
    "print(emoji.emojize('Python is :grinning_face_with_big_eyes:'))"
   ]
  },
  {
   "cell_type": "code",
   "execution_count": 41,
   "metadata": {},
   "outputs": [
    {
     "name": "stdout",
     "output_type": "stream",
     "text": [
      "😃\n",
      "😜\n",
      ":worried:\n",
      ":worried:\n"
     ]
    }
   ],
   "source": [
    "print(emoji.emojize(\":grinning_face_with_big_eyes:\")) \n",
    "print(emoji.emojize(\":winking_face_with_tongue:\")) \n",
    "print(emoji.emojize(\":worried:\"))\n",
    "print(emoji.emojize(\":worried:\"))\n",
    "\n"
   ]
  },
  {
   "cell_type": "code",
   "execution_count": 38,
   "metadata": {},
   "outputs": [
    {
     "data": {
      "text/plain": [
       "'Teste emojis GDO PMMG 😄 😀'"
      ]
     },
     "execution_count": 38,
     "metadata": {},
     "output_type": "execute_result"
    }
   ],
   "source": [
    "import emojis\n",
    "\n",
    "emojis.encode('Teste emojis GDO PMMG :smile: :grinning:')"
   ]
  },
  {
   "cell_type": "code",
   "execution_count": 42,
   "metadata": {},
   "outputs": [
    {
     "data": {
      "text/plain": [
       "'Teste emojis GDO PMMG 😑 :grinning_face_with_big_eyes:'"
      ]
     },
     "execution_count": 42,
     "metadata": {},
     "output_type": "execute_result"
    }
   ],
   "source": [
    "emojis.encode('Teste emojis GDO PMMG :expressionless: :grinning_face_with_big_eyes:')"
   ]
  },
  {
   "cell_type": "code",
   "execution_count": 46,
   "metadata": {},
   "outputs": [
    {
     "data": {
      "text/plain": [
       "'Teste emojis GDO PMMG :simple_smile:'"
      ]
     },
     "execution_count": 46,
     "metadata": {},
     "output_type": "execute_result"
    }
   ],
   "source": [
    "emojis.encode('Teste emojis GDO PMMG :simple_smile:')\n"
   ]
  },
  {
   "cell_type": "code",
   "execution_count": 53,
   "metadata": {},
   "outputs": [
    {
     "name": "stdout",
     "output_type": "stream",
     "text": [
      "😃\n"
     ]
    }
   ],
   "source": [
    "print(emoji.emojize(\":grinning_face_with_big_eyes:\")) "
   ]
  },
  {
   "cell_type": "code",
   "execution_count": 56,
   "metadata": {},
   "outputs": [
    {
     "name": "stdout",
     "output_type": "stream",
     "text": [
      "🙂, 😐, ☹\n"
     ]
    }
   ],
   "source": [
    "print('🙂, 😐, ☹')"
   ]
  },
  {
   "cell_type": "code",
   "execution_count": 63,
   "metadata": {},
   "outputs": [
    {
     "name": "stdout",
     "output_type": "stream",
     "text": [
      "😀\n",
      "😆\n",
      "😃 😃\n"
     ]
    }
   ],
   "source": [
    "# grinning face \n",
    "print(\"\\U0001f600\") \n",
    "\n",
    "# grinning squinting face \n",
    "print(\"\\U0001F606\") \n",
    "\n",
    "# rolling on the floor laughing \n",
    "print(\"\\U0001F603\", '\\U0001F603') \n",
    "\n"
   ]
  },
  {
   "cell_type": "code",
   "execution_count": 93,
   "metadata": {},
   "outputs": [
    {
     "name": "stdout",
     "output_type": "stream",
     "text": [
      "😀 😃 😄 😁 😆 😅 🤣 😂 🙂 🙃 😉 😊 😇 🥰 😋 😛 😜 🤪 😝 🤑 🤗 🤭 🤫 🤔 🤐 🤨 😐 😑 😶 😏 😒 🙄 😬 🤥 😌 😔 😪 🤤 😴 😷 🤒 🤕 🤢 😍 🤩 😘 😗 😚 😙\n"
     ]
    }
   ],
   "source": [
    "print('\\U0001F600','\\U0001F603','\\U0001F604','\\U0001F601','\\U0001F606','\\U0001F605','\\U0001F923',\n",
    "    '\\U0001F602','\\U0001F642','\\U0001F643','\\U0001F609','\\U0001F60A','\\U0001F607','\\U0001F970',\n",
    "    '\\U0001F60B','\\U0001F61B','\\U0001F61C','\\U0001F92A','\\U0001F61D','\\U0001F911','\\U0001F917',\n",
    "    '\\U0001F92D','\\U0001F92B','\\U0001F914','\\U0001F910','\\U0001F928','\\U0001F610','\\U0001F611',\n",
    "    '\\U0001F636','\\U0001F60F','\\U0001F612','\\U0001F644','\\U0001F62C','\\U0001F925','\\U0001F60C',\n",
    "    '\\U0001F614','\\U0001F62A','\\U0001F924','\\U0001F634','\\U0001F637','\\U0001F912',\n",
    "    '\\U0001F915','\\U0001F922',\n",
    "    \n",
    "    '\\U0001F60D','\\U0001F929','\\U0001F618','\\U0001F617','\\U0001F61A','\\U0001F619',\n",
    "    \n",
    "   \n",
    "\n",
    "    \n",
    "\n",
    "\n",
    "        \n",
    "        \n",
    "        \n",
    "        )"
   ]
  },
  {
   "cell_type": "code",
   "execution_count": 100,
   "metadata": {},
   "outputs": [
    {
     "name": "stdout",
     "output_type": "stream",
     "text": [
      "🔴 🟢 🟡\n"
     ]
    }
   ],
   "source": [
    "print('\\U0001F534', '\\U0001F7E2', '\\U0001F7E1')"
   ]
  },
  {
   "cell_type": "code",
   "execution_count": 102,
   "metadata": {},
   "outputs": [
    {
     "name": "stdout",
     "output_type": "stream",
     "text": [
      "😐\n"
     ]
    }
   ],
   "source": [
    "print('\\U0001F610')"
   ]
  }
 ],
 "metadata": {
  "kernelspec": {
   "display_name": "Python 3",
   "language": "python",
   "name": "python3"
  }
 },
 "nbformat": 4,
 "nbformat_minor": 2
}
