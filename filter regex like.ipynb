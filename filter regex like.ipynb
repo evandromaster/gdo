{
 "cells": [
  {
   "cell_type": "code",
   "execution_count": 1,
   "metadata": {},
   "outputs": [],
   "source": [
    "import pandas as pd\n",
    "import numpy as np\n",
    "\n",
    "dir_crimes = r'I:\\Meganz\\PMMG\\MySql\\10 - Tbl_dimensao\\gdo\\tbl_crimes.csv'#Home\n",
    "df_crimes = pd.read_csv(dir_crimes, sep=\";\", encoding='utf8', low_memory =False)"
   ]
  },
  {
   "cell_type": "code",
   "execution_count": 4,
   "metadata": {},
   "outputs": [
    {
     "data": {
      "text/html": [
       "<div>\n",
       "<style scoped>\n",
       "    .dataframe tbody tr th:only-of-type {\n",
       "        vertical-align: middle;\n",
       "    }\n",
       "\n",
       "    .dataframe tbody tr th {\n",
       "        vertical-align: top;\n",
       "    }\n",
       "\n",
       "    .dataframe thead th {\n",
       "        text-align: right;\n",
       "    }\n",
       "</style>\n",
       "<table border=\"1\" class=\"dataframe\">\n",
       "  <thead>\n",
       "    <tr style=\"text-align: right;\">\n",
       "      <th></th>\n",
       "      <th>Código Subclasse Nat Principal</th>\n",
       "      <th>Unid Digitação Nível 6</th>\n",
       "    </tr>\n",
       "  </thead>\n",
       "  <tbody>\n",
       "    <tr>\n",
       "      <th>0</th>\n",
       "      <td>C01155</td>\n",
       "      <td>50 CIA PM/7 BPM/7 RPM</td>\n",
       "    </tr>\n",
       "    <tr>\n",
       "      <th>1</th>\n",
       "      <td>C01155</td>\n",
       "      <td>142 CIA PM/23 BPM/7 RPM</td>\n",
       "    </tr>\n",
       "    <tr>\n",
       "      <th>2</th>\n",
       "      <td>C01155</td>\n",
       "      <td>279 CIA PM/60 BPM/7 RPM</td>\n",
       "    </tr>\n",
       "    <tr>\n",
       "      <th>3</th>\n",
       "      <td>C01155</td>\n",
       "      <td>51 CIA PM/23 BPM/7 RPM</td>\n",
       "    </tr>\n",
       "    <tr>\n",
       "      <th>4</th>\n",
       "      <td>C01155</td>\n",
       "      <td>19 CIA PM IND/7 RPM</td>\n",
       "    </tr>\n",
       "  </tbody>\n",
       "</table>\n",
       "</div>"
      ],
      "text/plain": [
       "  Código Subclasse Nat Principal   Unid Digitação Nível 6\n",
       "0                         C01155    50 CIA PM/7 BPM/7 RPM\n",
       "1                         C01155  142 CIA PM/23 BPM/7 RPM\n",
       "2                         C01155  279 CIA PM/60 BPM/7 RPM\n",
       "3                         C01155   51 CIA PM/23 BPM/7 RPM\n",
       "4                         C01155      19 CIA PM IND/7 RPM"
      ]
     },
     "execution_count": 4,
     "metadata": {},
     "output_type": "execute_result"
    }
   ],
   "source": [
    "df_crimes.filter(items = ['Código Subclasse Nat Principal', 'Unid Digitação Nível 6']).head()"
   ]
  },
  {
   "cell_type": "code",
   "execution_count": 26,
   "metadata": {},
   "outputs": [
    {
     "data": {
      "text/html": [
       "<div>\n",
       "<style scoped>\n",
       "    .dataframe tbody tr th:only-of-type {\n",
       "        vertical-align: middle;\n",
       "    }\n",
       "\n",
       "    .dataframe tbody tr th {\n",
       "        vertical-align: top;\n",
       "    }\n",
       "\n",
       "    .dataframe thead th {\n",
       "        text-align: right;\n",
       "    }\n",
       "</style>\n",
       "<table border=\"1\" class=\"dataframe\">\n",
       "  <thead>\n",
       "    <tr style=\"text-align: right;\">\n",
       "      <th></th>\n",
       "    </tr>\n",
       "  </thead>\n",
       "  <tbody>\n",
       "    <tr>\n",
       "      <th>0</th>\n",
       "    </tr>\n",
       "    <tr>\n",
       "      <th>1</th>\n",
       "    </tr>\n",
       "    <tr>\n",
       "      <th>2</th>\n",
       "    </tr>\n",
       "    <tr>\n",
       "      <th>3</th>\n",
       "    </tr>\n",
       "    <tr>\n",
       "      <th>4</th>\n",
       "    </tr>\n",
       "  </tbody>\n",
       "</table>\n",
       "</div>"
      ],
      "text/plain": [
       "Empty DataFrame\n",
       "Columns: []\n",
       "Index: [0, 1, 2, 3, 4]"
      ]
     },
     "execution_count": 26,
     "metadata": {},
     "output_type": "execute_result"
    }
   ],
   "source": [
    "# pega a  colunas  que começam com\n",
    "df_crimes.filter(like ='Cód.').head()"
   ]
  },
  {
   "cell_type": "code",
   "execution_count": 25,
   "metadata": {},
   "outputs": [
    {
     "data": {
      "text/html": [
       "<div>\n",
       "<style scoped>\n",
       "    .dataframe tbody tr th:only-of-type {\n",
       "        vertical-align: middle;\n",
       "    }\n",
       "\n",
       "    .dataframe tbody tr th {\n",
       "        vertical-align: top;\n",
       "    }\n",
       "\n",
       "    .dataframe thead th {\n",
       "        text-align: right;\n",
       "    }\n",
       "</style>\n",
       "<table border=\"1\" class=\"dataframe\">\n",
       "  <thead>\n",
       "    <tr style=\"text-align: right;\">\n",
       "      <th></th>\n",
       "      <th>Código Subclasse Nat Principal</th>\n",
       "      <th>Código Subclasse Nat Sec1</th>\n",
       "      <th>Código Subclasse Nat Sec2</th>\n",
       "      <th>Código Subclasse Nat Sec3</th>\n",
       "    </tr>\n",
       "  </thead>\n",
       "  <tbody>\n",
       "    <tr>\n",
       "      <th>0</th>\n",
       "      <td>C01155</td>\n",
       "      <td>7777777</td>\n",
       "      <td>7777777</td>\n",
       "      <td>7777777</td>\n",
       "    </tr>\n",
       "    <tr>\n",
       "      <th>1</th>\n",
       "      <td>C01155</td>\n",
       "      <td>7777777</td>\n",
       "      <td>7777777</td>\n",
       "      <td>7777777</td>\n",
       "    </tr>\n",
       "    <tr>\n",
       "      <th>2</th>\n",
       "      <td>C01155</td>\n",
       "      <td>7777777</td>\n",
       "      <td>7777777</td>\n",
       "      <td>7777777</td>\n",
       "    </tr>\n",
       "    <tr>\n",
       "      <th>3</th>\n",
       "      <td>C01155</td>\n",
       "      <td>7777777</td>\n",
       "      <td>7777777</td>\n",
       "      <td>7777777</td>\n",
       "    </tr>\n",
       "    <tr>\n",
       "      <th>4</th>\n",
       "      <td>C01155</td>\n",
       "      <td>7777777</td>\n",
       "      <td>7777777</td>\n",
       "      <td>7777777</td>\n",
       "    </tr>\n",
       "  </tbody>\n",
       "</table>\n",
       "</div>"
      ],
      "text/plain": [
       "  Código Subclasse Nat Principal Código Subclasse Nat Sec1  \\\n",
       "0                         C01155                   7777777   \n",
       "1                         C01155                   7777777   \n",
       "2                         C01155                   7777777   \n",
       "3                         C01155                   7777777   \n",
       "4                         C01155                   7777777   \n",
       "\n",
       "  Código Subclasse Nat Sec2 Código Subclasse Nat Sec3  \n",
       "0                   7777777                   7777777  \n",
       "1                   7777777                   7777777  \n",
       "2                   7777777                   7777777  \n",
       "3                   7777777                   7777777  \n",
       "4                   7777777                   7777777  "
      ]
     },
     "execution_count": 25,
     "metadata": {},
     "output_type": "execute_result"
    }
   ],
   "source": [
    "# pega a  colunas  com expressão regular\n",
    "df_crimes.filter(regex ='Cód.').head()"
   ]
  }
 ],
 "metadata": {
  "kernelspec": {
   "display_name": "Python 3",
   "language": "python",
   "name": "python3"
  },
  "language_info": {
   "codemirror_mode": {
    "name": "ipython",
    "version": 3
   },
   "file_extension": ".py",
   "mimetype": "text/x-python",
   "name": "python",
   "nbconvert_exporter": "python",
   "pygments_lexer": "ipython3",
   "version": "3.7.3"
  }
 },
 "nbformat": 4,
 "nbformat_minor": 2
}
