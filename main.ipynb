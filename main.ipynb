{
 "cells": [
  {
   "cell_type": "code",
   "execution_count": 1,
   "metadata": {},
   "outputs": [
    {
     "name": "stdout",
     "output_type": "stream",
     "text": [
      "importing Jupyter notebook from df_crimes.ipynb\n",
      "WARNING *** file size (38246433) not 512 + multiple of sector size (512)\n",
      "WARNING *** OLE2 inconsistency: SSCS size is 0 but SSAT size is non-zero\n",
      "Empty DataFrame\n",
      "Columns: [NREDS, LOGRADOURO, LOGRADOURO_NAO_CAD, LOGRADOURO_CRUZ, LOGRADOURO_CRUZ_NAO_CAD, N_LOG, BAIRRO, BAIRRO_NAO_CAD, COMPLEMENTO_END, PONTO_REF, MUNICIPIO, SETOR]\n",
      "Index: []\n",
      "Foram encontrados  Series([], Name: NREDS, dtype: int64) registros inválidos.\n",
      "\u001b[1;33;40mUniverso Crimes     Importado com Sucesso\n",
      "importing Jupyter notebook from df_envolvidos.ipynb\n",
      "WARNING *** file size (38246433) not 512 + multiple of sector size (512)\n",
      "WARNING *** OLE2 inconsistency: SSCS size is 0 but SSAT size is non-zero\n"
     ]
    },
    {
     "name": "stderr",
     "output_type": "stream",
     "text": [
      "C:\\Users\\Geo\\Anaconda3\\lib\\site-packages\\pandas\\core\\ops\\array_ops.py:253: FutureWarning: elementwise comparison failed; returning scalar instead, but in the future will perform elementwise comparison\n",
      "  res_values = method(rvalues)\n"
     ]
    },
    {
     "name": "stdout",
     "output_type": "stream",
     "text": [
      "Wall time: 36 ms\n",
      "Wall time: 14.7 s\n",
      "Wall time: 9.17 s\n",
      "Wall time: 22.6 s\n",
      "\u001b[1;32;40mUniverso Envolvidos Importado com Sucesso\n",
      "importing Jupyter notebook from df_materiais.ipynb\n",
      "WARNING *** file size (38246433) not 512 + multiple of sector size (512)\n",
      "WARNING *** OLE2 inconsistency: SSCS size is 0 but SSAT size is non-zero\n",
      "\u001b[1;34;40mUniverso Materiais  Importado com Sucesso\n",
      "importing Jupyter notebook from df_armas_fgo.ipynb\n",
      "WARNING *** file size (38246433) not 512 + multiple of sector size (512)\n",
      "WARNING *** OLE2 inconsistency: SSCS size is 0 but SSAT size is non-zero\n",
      "\u001b[1;31;40mUniverso Armas Fogo Importado com Sucesso\n"
     ]
    }
   ],
   "source": [
    "import import_ipynb\n",
    "\n",
    "import df_crimes\n",
    "print('\\033[1;33;40mUniverso Crimes     Importado com Sucesso')\n",
    "\n",
    "import df_envolvidos\n",
    "print('\\033[1;32;40mUniverso Envolvidos Importado com Sucesso')\n",
    "\n",
    "import df_materiais\n",
    "print('\\033[1;34;40mUniverso Materiais  Importado com Sucesso')\n",
    "\n",
    "import df_armas_fgo\n",
    "print('\\033[1;31;40mUniverso Armas Fogo Importado com Sucesso')"
   ]
  },
  {
   "cell_type": "code",
   "execution_count": 2,
   "metadata": {},
   "outputs": [
    {
     "name": "stdout",
     "output_type": "stream",
     "text": [
      "\u001b[0;37;40m Normal text\n",
      "\n",
      "\u001b[2;37;40m Underlined text\u001b[0;37;40m \n",
      "\n",
      "\u001b[1;37;40m Bright Colour\u001b[0;37;40m \n",
      "\n",
      "\u001b[3;37;40m Negative Colour\u001b[0;37;40m \n",
      "\n",
      "\u001b[5;37;40m Negative Colour\u001b[0;37;40m\n",
      "\n",
      "\u001b[1;37;40m \u001b[2;37:40m TextColour BlackBackground          TextColour GreyBackground                WhiteText ColouredBackground\u001b[0;37;40m\n",
      "\n",
      "\u001b[1;31;40m Dark Gray      \u001b[0m 1;30;40m            \u001b[0;30;47m Black      \u001b[0m 0;30;47m               \u001b[0;37;41m Black      \u001b[0m 0;37;41m\n",
      "\u001b[1;31;40m Bright Red     \u001b[0m 1;31;40m            \u001b[0;31;47m Red        \u001b[0m 0;31;47m               \u001b[0;37;42m Black      \u001b[0m 0;37;42m\n",
      "\u001b[1;32;40m Bright Green   \u001b[0m 1;32;40m            \u001b[0;32;47m Green      \u001b[0m 0;32;47m               \u001b[0;37;43m Black      \u001b[0m 0;37;43m\n",
      "\u001b[1;33;40m Yellow         \u001b[0m 1;33;40m            \u001b[0;33;47m Brown      \u001b[0m 0;33;47m               \u001b[0;37;44m Black      \u001b[0m 0;37;44m\n",
      "\u001b[1;34;40m Bright Blue    \u001b[0m 1;34;40m            \u001b[0;34;47m Blue       \u001b[0m 0;34;47m               \u001b[0;37;45m Black      \u001b[0m 0;37;45m\n",
      "\u001b[1;35;40m Bright Magenta \u001b[0m 1;35;40m            \u001b[0;35;47m Magenta    \u001b[0m 0;35;47m               \u001b[0;37;46m Black      \u001b[0m 0;37;46m\n",
      "\u001b[1;36;40m Bright Cyan    \u001b[0m 1;36;40m            \u001b[0;36;47m Cyan       \u001b[0m 0;36;47m               \u001b[0;37;47m Black      \u001b[0m 0;37;47m\n",
      "\u001b[1;37;40m White          \u001b[0m 1;37;40m            \u001b[0;37;40m Light Grey \u001b[0m 0;37;40m               \u001b[0;37;48m Black      \u001b[0m 0;37;48m\n",
      "Universo Envolvidos Importados com Sucesso \u001b[0;37;41m Yellow\n"
     ]
    }
   ],
   "source": [
    "\n",
    "print(\"\\033[0;37;40m Normal text\\n\")\n",
    "print(\"\\033[2;37;40m Underlined text\\033[0;37;40m \\n\")\n",
    "print(\"\\033[1;37;40m Bright Colour\\033[0;37;40m \\n\")\n",
    "print(\"\\033[3;37;40m Negative Colour\\033[0;37;40m \\n\")\n",
    "print(\"\\033[5;37;40m Negative Colour\\033[0;37;40m\\n\")\n",
    " \n",
    "print(\"\\033[1;37;40m \\033[2;37:40m TextColour BlackBackground          TextColour GreyBackground                WhiteText ColouredBackground\\033[0;37;40m\\n\")\n",
    "print(\"\\033[1;31;40m Dark Gray      \\033[0m 1;30;40m            \\033[0;30;47m Black      \\033[0m 0;30;47m               \\033[0;37;41m Black      \\033[0m 0;37;41m\")\n",
    "print(\"\\033[1;31;40m Bright Red     \\033[0m 1;31;40m            \\033[0;31;47m Red        \\033[0m 0;31;47m               \\033[0;37;42m Black      \\033[0m 0;37;42m\")\n",
    "print(\"\\033[1;32;40m Bright Green   \\033[0m 1;32;40m            \\033[0;32;47m Green      \\033[0m 0;32;47m               \\033[0;37;43m Black      \\033[0m 0;37;43m\")\n",
    "print(\"\\033[1;33;40m Yellow         \\033[0m 1;33;40m            \\033[0;33;47m Brown      \\033[0m 0;33;47m               \\033[0;37;44m Black      \\033[0m 0;37;44m\")\n",
    "print(\"\\033[1;34;40m Bright Blue    \\033[0m 1;34;40m            \\033[0;34;47m Blue       \\033[0m 0;34;47m               \\033[0;37;45m Black      \\033[0m 0;37;45m\")\n",
    "print(\"\\033[1;35;40m Bright Magenta \\033[0m 1;35;40m            \\033[0;35;47m Magenta    \\033[0m 0;35;47m               \\033[0;37;46m Black      \\033[0m 0;37;46m\")\n",
    "print(\"\\033[1;36;40m Bright Cyan    \\033[0m 1;36;40m            \\033[0;36;47m Cyan       \\033[0m 0;36;47m               \\033[0;37;47m Black      \\033[0m 0;37;47m\")\n",
    "print(\"\\033[1;37;40m White          \\033[0m 1;37;40m            \\033[0;37;40m Light Grey \\033[0m 0;37;40m               \\033[0;37;48m Black      \\033[0m 0;37;48m\")\n",
    " \n",
    "print('Universo Envolvidos Importados com Sucesso \\033[0;37;41m Yellow')"
   ]
  }
 ],
 "metadata": {
  "kernelspec": {
   "display_name": "Python 3",
   "language": "python",
   "name": "python3"
  },
  "language_info": {
   "codemirror_mode": {
    "name": "ipython",
    "version": 3
   },
   "file_extension": ".py",
   "mimetype": "text/x-python",
   "name": "python",
   "nbconvert_exporter": "python",
   "pygments_lexer": "ipython3",
   "version": "3.7.7"
  }
 },
 "nbformat": 4,
 "nbformat_minor": 4
}
