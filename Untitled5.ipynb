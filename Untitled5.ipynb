{
 "cells": [
  {
   "cell_type": "code",
   "execution_count": 107,
   "metadata": {},
   "outputs": [],
   "source": [
    "import pandas as pd\n",
    "import numpy as np\n",
    "from datetime import datetime\n",
    "df = pd.read_sql_table('tbl_envolvidos', 'sqlite:///gdo.db',\n",
    "                       columns =['NREDS', 'COD_DIAO', 'T_C', 'COD_DELITO', 'T_C_DELITO',\n",
    "                                 'DATA_FATO', 'CIA', 'UEOP', 'QTDE_ENVOL'])"
   ]
  },
  {
   "cell_type": "code",
   "execution_count": 53,
   "metadata": {},
   "outputs": [
    {
     "data": {
      "text/plain": [
       "NREDS         12886\n",
       "COD_DIAO      12886\n",
       "T_C           12886\n",
       "COD_DELITO    12886\n",
       "T_C_DELITO    12886\n",
       "DATA_FATO     12886\n",
       "CIA           12886\n",
       "UEOP          12886\n",
       "QTDE_ENVOL    12886\n",
       "dtype: int64"
      ]
     },
     "execution_count": 53,
     "metadata": {},
     "output_type": "execute_result"
    }
   ],
   "source": [
    "df.count()"
   ]
  },
  {
   "cell_type": "code",
   "execution_count": 2,
   "metadata": {
    "scrolled": false
   },
   "outputs": [
    {
     "data": {
      "text/plain": [
       "UEOP            CIA           \n",
       "07º BPM         107ª CIA          1068\n",
       "                118ª CIA           649\n",
       "                50ª CIA            644\n",
       "                141ª CIA           391\n",
       "19ª CIA PM IND  19ª CIA PM IND    1020\n",
       "23º BPM         142ª CIA          1913\n",
       "                139ª CIA          1297\n",
       "                51ª CIA           1019\n",
       "                53ª CIA            661\n",
       "60º BPM         279ª CIA          1624\n",
       "                280ª CIA          1506\n",
       "                other               10\n",
       "63º BPM         290ª CIA           750\n",
       "                241ª CIA           334\n",
       "Name: CIA, dtype: int64"
      ]
     },
     "execution_count": 2,
     "metadata": {},
     "output_type": "execute_result"
    }
   ],
   "source": [
    "df.groupby(['UEOP'])['CIA'].value_counts()"
   ]
  },
  {
   "cell_type": "code",
   "execution_count": 54,
   "metadata": {
    "scrolled": true
   },
   "outputs": [
    {
     "data": {
      "text/plain": [
       "0        2019\n",
       "1        2019\n",
       "2        2019\n",
       "3        2019\n",
       "4        2019\n",
       "         ... \n",
       "12881    2020\n",
       "12882    2020\n",
       "12883    2020\n",
       "12884    2020\n",
       "12885    2020\n",
       "Name: DATA_FATO, Length: 12886, dtype: int64"
      ]
     },
     "execution_count": 54,
     "metadata": {},
     "output_type": "execute_result"
    }
   ],
   "source": [
    "#df.loc[:,'DATA_FATO'].dt.month\n",
    "df['DATA_FATO'].dt.year"
   ]
  },
  {
   "cell_type": "code",
   "execution_count": 55,
   "metadata": {},
   "outputs": [
    {
     "data": {
      "text/html": [
       "<div>\n",
       "<style scoped>\n",
       "    .dataframe tbody tr th:only-of-type {\n",
       "        vertical-align: middle;\n",
       "    }\n",
       "\n",
       "    .dataframe tbody tr th {\n",
       "        vertical-align: top;\n",
       "    }\n",
       "\n",
       "    .dataframe thead th {\n",
       "        text-align: right;\n",
       "    }\n",
       "</style>\n",
       "<table border=\"1\" class=\"dataframe\">\n",
       "  <thead>\n",
       "    <tr style=\"text-align: right;\">\n",
       "      <th></th>\n",
       "      <th>NREDS</th>\n",
       "      <th>COD_DIAO</th>\n",
       "      <th>T_C</th>\n",
       "      <th>COD_DELITO</th>\n",
       "      <th>T_C_DELITO</th>\n",
       "      <th>DATA_FATO</th>\n",
       "      <th>CIA</th>\n",
       "      <th>UEOP</th>\n",
       "      <th>QTDE_ENVOL</th>\n",
       "    </tr>\n",
       "    <tr>\n",
       "      <th>DATA_FATO</th>\n",
       "      <th></th>\n",
       "      <th></th>\n",
       "      <th></th>\n",
       "      <th></th>\n",
       "      <th></th>\n",
       "      <th></th>\n",
       "      <th></th>\n",
       "      <th></th>\n",
       "      <th></th>\n",
       "    </tr>\n",
       "  </thead>\n",
       "  <tbody>\n",
       "    <tr>\n",
       "      <th>2019</th>\n",
       "      <td>9391</td>\n",
       "      <td>9391</td>\n",
       "      <td>9391</td>\n",
       "      <td>9391</td>\n",
       "      <td>9391</td>\n",
       "      <td>9391</td>\n",
       "      <td>9391</td>\n",
       "      <td>9391</td>\n",
       "      <td>9391</td>\n",
       "    </tr>\n",
       "    <tr>\n",
       "      <th>2020</th>\n",
       "      <td>3495</td>\n",
       "      <td>3495</td>\n",
       "      <td>3495</td>\n",
       "      <td>3495</td>\n",
       "      <td>3495</td>\n",
       "      <td>3495</td>\n",
       "      <td>3495</td>\n",
       "      <td>3495</td>\n",
       "      <td>3495</td>\n",
       "    </tr>\n",
       "  </tbody>\n",
       "</table>\n",
       "</div>"
      ],
      "text/plain": [
       "           NREDS  COD_DIAO   T_C  COD_DELITO  T_C_DELITO  DATA_FATO   CIA  \\\n",
       "DATA_FATO                                                                   \n",
       "2019        9391      9391  9391        9391        9391       9391  9391   \n",
       "2020        3495      3495  3495        3495        3495       3495  3495   \n",
       "\n",
       "           UEOP  QTDE_ENVOL  \n",
       "DATA_FATO                    \n",
       "2019       9391        9391  \n",
       "2020       3495        3495  "
      ]
     },
     "execution_count": 55,
     "metadata": {},
     "output_type": "execute_result"
    }
   ],
   "source": [
    "df.groupby(['UEOP'])['CIA'].value_counts()\n",
    "\n",
    "df.groupby(df['DATA_FATO'].dt.year).count()\n",
    "           #df.groupby(['Animal']).mean()"
   ]
  },
  {
   "cell_type": "code",
   "execution_count": 3,
   "metadata": {},
   "outputs": [
    {
     "data": {
      "text/plain": [
       "UEOP     CIA     \n",
       "23º BPM  142ª CIA    1913\n",
       "         53ª CIA      661\n",
       "Name: CIA, dtype: int64"
      ]
     },
     "execution_count": 3,
     "metadata": {},
     "output_type": "execute_result"
    }
   ],
   "source": [
    "#df.query('AveragePrice <= 1')\n",
    "#df.query('type != \"conventional\"')\n",
    "df.query('UEOP == \"23º BPM\" & CIA  in[\"53ª CIA\", \"142ª CIA\"]', inplace = True)\n",
    "df.groupby(['UEOP'])['CIA'].value_counts()"
   ]
  },
  {
   "cell_type": "code",
   "execution_count": 46,
   "metadata": {
    "scrolled": true
   },
   "outputs": [
    {
     "data": {
      "text/plain": [
       "NREDS        11214\n",
       "COD_DIAO     11214\n",
       "DATA_FATO    11214\n",
       "CIA          11214\n",
       "UEOP         11214\n",
       "QTDE         11214\n",
       "dtype: int64"
      ]
     },
     "execution_count": 46,
     "metadata": {},
     "output_type": "execute_result"
    }
   ],
   "source": [
    "df.count()"
   ]
  },
  {
   "cell_type": "code",
   "execution_count": 51,
   "metadata": {
    "scrolled": true
   },
   "outputs": [
    {
     "data": {
      "text/html": [
       "<div>\n",
       "<style scoped>\n",
       "    .dataframe tbody tr th:only-of-type {\n",
       "        vertical-align: middle;\n",
       "    }\n",
       "\n",
       "    .dataframe tbody tr th {\n",
       "        vertical-align: top;\n",
       "    }\n",
       "\n",
       "    .dataframe thead th {\n",
       "        text-align: right;\n",
       "    }\n",
       "</style>\n",
       "<table border=\"1\" class=\"dataframe\">\n",
       "  <thead>\n",
       "    <tr style=\"text-align: right;\">\n",
       "      <th></th>\n",
       "      <th>NREDS</th>\n",
       "      <th>COD_DIAO</th>\n",
       "      <th>T_C</th>\n",
       "      <th>COD_DELITO</th>\n",
       "      <th>T_C_DELITO</th>\n",
       "      <th>DATA_FATO</th>\n",
       "      <th>CIA</th>\n",
       "      <th>UEOP</th>\n",
       "      <th>QTDE_ENVOL</th>\n",
       "    </tr>\n",
       "  </thead>\n",
       "  <tbody>\n",
       "    <tr>\n",
       "      <th>20</th>\n",
       "      <td>2019-000055656-001</td>\n",
       "      <td>B01121</td>\n",
       "      <td>TENTADO</td>\n",
       "      <td>B01121</td>\n",
       "      <td>CONSUMADO</td>\n",
       "      <td>2019-01-01</td>\n",
       "      <td>118ª CIA</td>\n",
       "      <td>07º BPM</td>\n",
       "      <td>1</td>\n",
       "    </tr>\n",
       "    <tr>\n",
       "      <th>24</th>\n",
       "      <td>2019-000105837-001</td>\n",
       "      <td>B01121</td>\n",
       "      <td>CONSUMADO</td>\n",
       "      <td>B01121</td>\n",
       "      <td>CONSUMADO</td>\n",
       "      <td>2019-01-01</td>\n",
       "      <td>107ª CIA</td>\n",
       "      <td>07º BPM</td>\n",
       "      <td>1</td>\n",
       "    </tr>\n",
       "    <tr>\n",
       "      <th>25</th>\n",
       "      <td>2019-000105837-001</td>\n",
       "      <td>B01121</td>\n",
       "      <td>CONSUMADO</td>\n",
       "      <td>B01121</td>\n",
       "      <td>CONSUMADO</td>\n",
       "      <td>2019-01-01</td>\n",
       "      <td>107ª CIA</td>\n",
       "      <td>07º BPM</td>\n",
       "      <td>1</td>\n",
       "    </tr>\n",
       "    <tr>\n",
       "      <th>58</th>\n",
       "      <td>2019-000423671-001</td>\n",
       "      <td>B01121</td>\n",
       "      <td>CONSUMADO</td>\n",
       "      <td>B01121</td>\n",
       "      <td>CONSUMADO</td>\n",
       "      <td>2019-01-03</td>\n",
       "      <td>279ª CIA</td>\n",
       "      <td>60º BPM</td>\n",
       "      <td>1</td>\n",
       "    </tr>\n",
       "    <tr>\n",
       "      <th>59</th>\n",
       "      <td>2019-000423671-001</td>\n",
       "      <td>B01121</td>\n",
       "      <td>CONSUMADO</td>\n",
       "      <td>B01121</td>\n",
       "      <td>CONSUMADO</td>\n",
       "      <td>2019-01-03</td>\n",
       "      <td>279ª CIA</td>\n",
       "      <td>60º BPM</td>\n",
       "      <td>1</td>\n",
       "    </tr>\n",
       "    <tr>\n",
       "      <th>...</th>\n",
       "      <td>...</td>\n",
       "      <td>...</td>\n",
       "      <td>...</td>\n",
       "      <td>...</td>\n",
       "      <td>...</td>\n",
       "      <td>...</td>\n",
       "      <td>...</td>\n",
       "      <td>...</td>\n",
       "      <td>...</td>\n",
       "    </tr>\n",
       "    <tr>\n",
       "      <th>12801</th>\n",
       "      <td>2020-028895311-001</td>\n",
       "      <td>B01121</td>\n",
       "      <td>CONSUMADO</td>\n",
       "      <td>B01129</td>\n",
       "      <td>CONSUMADO</td>\n",
       "      <td>2020-06-16</td>\n",
       "      <td>19ª CIA PM IND</td>\n",
       "      <td>19ª CIA PM IND</td>\n",
       "      <td>1</td>\n",
       "    </tr>\n",
       "    <tr>\n",
       "      <th>12846</th>\n",
       "      <td>2020-029479260-001</td>\n",
       "      <td>B01121</td>\n",
       "      <td>CONSUMADO</td>\n",
       "      <td>B01121</td>\n",
       "      <td>CONSUMADO</td>\n",
       "      <td>2020-06-19</td>\n",
       "      <td>19ª CIA PM IND</td>\n",
       "      <td>19ª CIA PM IND</td>\n",
       "      <td>1</td>\n",
       "    </tr>\n",
       "    <tr>\n",
       "      <th>12847</th>\n",
       "      <td>2020-029479260-001</td>\n",
       "      <td>B01121</td>\n",
       "      <td>CONSUMADO</td>\n",
       "      <td>B01121</td>\n",
       "      <td>CONSUMADO</td>\n",
       "      <td>2020-06-19</td>\n",
       "      <td>19ª CIA PM IND</td>\n",
       "      <td>19ª CIA PM IND</td>\n",
       "      <td>1</td>\n",
       "    </tr>\n",
       "    <tr>\n",
       "      <th>12848</th>\n",
       "      <td>2020-029479260-001</td>\n",
       "      <td>B01121</td>\n",
       "      <td>CONSUMADO</td>\n",
       "      <td>B01121</td>\n",
       "      <td>CONSUMADO</td>\n",
       "      <td>2020-06-19</td>\n",
       "      <td>19ª CIA PM IND</td>\n",
       "      <td>19ª CIA PM IND</td>\n",
       "      <td>1</td>\n",
       "    </tr>\n",
       "    <tr>\n",
       "      <th>12849</th>\n",
       "      <td>2020-029479260-001</td>\n",
       "      <td>B01121</td>\n",
       "      <td>CONSUMADO</td>\n",
       "      <td>B01121</td>\n",
       "      <td>CONSUMADO</td>\n",
       "      <td>2020-06-19</td>\n",
       "      <td>19ª CIA PM IND</td>\n",
       "      <td>19ª CIA PM IND</td>\n",
       "      <td>1</td>\n",
       "    </tr>\n",
       "  </tbody>\n",
       "</table>\n",
       "<p>1047 rows × 9 columns</p>\n",
       "</div>"
      ],
      "text/plain": [
       "                    NREDS COD_DIAO        T_C COD_DELITO T_C_DELITO  \\\n",
       "20     2019-000055656-001   B01121    TENTADO     B01121  CONSUMADO   \n",
       "24     2019-000105837-001   B01121  CONSUMADO     B01121  CONSUMADO   \n",
       "25     2019-000105837-001   B01121  CONSUMADO     B01121  CONSUMADO   \n",
       "58     2019-000423671-001   B01121  CONSUMADO     B01121  CONSUMADO   \n",
       "59     2019-000423671-001   B01121  CONSUMADO     B01121  CONSUMADO   \n",
       "...                   ...      ...        ...        ...        ...   \n",
       "12801  2020-028895311-001   B01121  CONSUMADO     B01129  CONSUMADO   \n",
       "12846  2020-029479260-001   B01121  CONSUMADO     B01121  CONSUMADO   \n",
       "12847  2020-029479260-001   B01121  CONSUMADO     B01121  CONSUMADO   \n",
       "12848  2020-029479260-001   B01121  CONSUMADO     B01121  CONSUMADO   \n",
       "12849  2020-029479260-001   B01121  CONSUMADO     B01121  CONSUMADO   \n",
       "\n",
       "       DATA_FATO             CIA            UEOP  QTDE_ENVOL  \n",
       "20    2019-01-01        118ª CIA         07º BPM           1  \n",
       "24    2019-01-01        107ª CIA         07º BPM           1  \n",
       "25    2019-01-01        107ª CIA         07º BPM           1  \n",
       "58    2019-01-03        279ª CIA         60º BPM           1  \n",
       "59    2019-01-03        279ª CIA         60º BPM           1  \n",
       "...          ...             ...             ...         ...  \n",
       "12801 2020-06-16  19ª CIA PM IND  19ª CIA PM IND           1  \n",
       "12846 2020-06-19  19ª CIA PM IND  19ª CIA PM IND           1  \n",
       "12847 2020-06-19  19ª CIA PM IND  19ª CIA PM IND           1  \n",
       "12848 2020-06-19  19ª CIA PM IND  19ª CIA PM IND           1  \n",
       "12849 2020-06-19  19ª CIA PM IND  19ª CIA PM IND           1  \n",
       "\n",
       "[1047 rows x 9 columns]"
      ]
     },
     "execution_count": 51,
     "metadata": {},
     "output_type": "execute_result"
    }
   ],
   "source": [
    "df.query('COD_DIAO == \"B01121\" & T_C == \"CONSUMADO\" | COD_DELITO in [\"B01121\"] & T_C_DELITO == \"CONSUMADO\"',\n",
    "         inplace = True)\n",
    "df"
   ]
  },
  {
   "cell_type": "code",
   "execution_count": 63,
   "metadata": {
    "scrolled": true
   },
   "outputs": [
    {
     "ename": "AttributeError",
     "evalue": "'NaTType' object has no attribute 'dt'",
     "output_type": "error",
     "traceback": [
      "\u001b[1;31m---------------------------------------------------------------------------\u001b[0m",
      "\u001b[1;31mAttributeError\u001b[0m                            Traceback (most recent call last)",
      "\u001b[1;32m<ipython-input-63-73e1042c994c>\u001b[0m in \u001b[0;36m<module>\u001b[1;34m\u001b[0m\n\u001b[0;32m      1\u001b[0m \u001b[0mstart_date\u001b[0m \u001b[1;33m=\u001b[0m \u001b[1;34m'2020-01-01'\u001b[0m\u001b[1;33m\u001b[0m\u001b[1;33m\u001b[0m\u001b[0m\n\u001b[1;32m----> 2\u001b[1;33m \u001b[0mpd\u001b[0m\u001b[1;33m.\u001b[0m\u001b[0mto_datetime\u001b[0m\u001b[1;33m(\u001b[0m\u001b[0mstart_date\u001b[0m\u001b[1;33m,\u001b[0m \u001b[0mformat\u001b[0m\u001b[1;33m=\u001b[0m\u001b[1;34m'%d/%m/%Y'\u001b[0m\u001b[1;33m,\u001b[0m \u001b[0merrors\u001b[0m \u001b[1;33m=\u001b[0m \u001b[1;34m'coerce'\u001b[0m\u001b[1;33m)\u001b[0m\u001b[1;33m.\u001b[0m\u001b[0mdt\u001b[0m\u001b[1;33m.\u001b[0m\u001b[0mdate\u001b[0m\u001b[1;33m\u001b[0m\u001b[1;33m\u001b[0m\u001b[0m\n\u001b[0m\u001b[0;32m      3\u001b[0m \u001b[0mend_date\u001b[0m \u001b[1;33m=\u001b[0m \u001b[1;34m'2020-12-31'\u001b[0m\u001b[1;33m\u001b[0m\u001b[1;33m\u001b[0m\u001b[0m\n\u001b[0;32m      4\u001b[0m \u001b[0mdf\u001b[0m\u001b[1;33m.\u001b[0m\u001b[0mquery\u001b[0m\u001b[1;33m(\u001b[0m\u001b[1;33m[\u001b[0m\u001b[1;34m'DATA_FATO'\u001b[0m\u001b[1;33m]\u001b[0m \u001b[1;33m==\u001b[0m \u001b[0mstart_date\u001b[0m\u001b[1;33m,\u001b[0m  \u001b[0minplace\u001b[0m \u001b[1;33m=\u001b[0m \u001b[1;32mTrue\u001b[0m\u001b[1;33m)\u001b[0m\u001b[1;33m\u001b[0m\u001b[1;33m\u001b[0m\u001b[0m\n\u001b[0;32m      5\u001b[0m \u001b[1;31m#df.query(['DATA_FATO'] > start_date & ['DATA_FATO'] <= end_date, inplace = True)\u001b[0m\u001b[1;33m\u001b[0m\u001b[1;33m\u001b[0m\u001b[1;33m\u001b[0m\u001b[0m\n",
      "\u001b[1;31mAttributeError\u001b[0m: 'NaTType' object has no attribute 'dt'"
     ]
    }
   ],
   "source": [
    "start_date = '2020-01-01'\n",
    "pd.to_datetime(start_date, format='%d/%m/%Y', errors = 'coerce').dt.date\n",
    "end_date = '2020-12-31'\n",
    "df.query(['DATA_FATO'] == start_date,  inplace = True)\n",
    "#df.query(['DATA_FATO'] > start_date & ['DATA_FATO'] <= end_date, inplace = True)\n",
    "df"
   ]
  },
  {
   "cell_type": "code",
   "execution_count": 109,
   "metadata": {},
   "outputs": [],
   "source": [
    "df['DATA_FATO'] = pd.to_datetime(df['DATA_FATO'], format='%d/%m/%Y', errors = 'coerce').dt.date\n",
    "#df['DATA_FATO']"
   ]
  },
  {
   "cell_type": "code",
   "execution_count": 119,
   "metadata": {},
   "outputs": [
    {
     "ename": "AttributeError",
     "evalue": "'Timestamp' object has no attribute 'dt'",
     "output_type": "error",
     "traceback": [
      "\u001b[1;31m---------------------------------------------------------------------------\u001b[0m",
      "\u001b[1;31mAttributeError\u001b[0m                            Traceback (most recent call last)",
      "\u001b[1;32m<ipython-input-119-e60a2d8903a0>\u001b[0m in \u001b[0;36m<module>\u001b[1;34m\u001b[0m\n\u001b[0;32m      1\u001b[0m \u001b[0mstart_date\u001b[0m \u001b[1;33m=\u001b[0m \u001b[1;34m'2020-01-01'\u001b[0m\u001b[1;33m\u001b[0m\u001b[1;33m\u001b[0m\u001b[0m\n\u001b[1;32m----> 2\u001b[1;33m \u001b[0mpd\u001b[0m\u001b[1;33m.\u001b[0m\u001b[0mto_datetime\u001b[0m\u001b[1;33m(\u001b[0m\u001b[1;34m'2020-01-01'\u001b[0m\u001b[1;33m,\u001b[0m \u001b[0mformat\u001b[0m\u001b[1;33m=\u001b[0m\u001b[1;34m'%Y-%m-%d'\u001b[0m\u001b[1;33m,\u001b[0m \u001b[0merrors\u001b[0m \u001b[1;33m=\u001b[0m \u001b[1;34m'coerce'\u001b[0m\u001b[1;33m)\u001b[0m\u001b[1;33m.\u001b[0m\u001b[0mdt\u001b[0m\u001b[1;33m.\u001b[0m\u001b[0mdate\u001b[0m\u001b[1;33m\u001b[0m\u001b[1;33m\u001b[0m\u001b[0m\n\u001b[0m",
      "\u001b[1;31mAttributeError\u001b[0m: 'Timestamp' object has no attribute 'dt'"
     ]
    }
   ],
   "source": [
    "start_date = '2020-01-01'\n",
    "pd.to_datetime('2020-01-01', format='%Y-%m-%d', errors = 'coerce').dt.date"
   ]
  },
  {
   "cell_type": "code",
   "execution_count": 74,
   "metadata": {},
   "outputs": [],
   "source": [
    "#df['DATA_FATO']=pd.to_datetime(df['DATA_FATO'], format='%Y-%m-%d')\n",
    "\n",
    "date_init = '2020-01-01' # Infome da  data inicial da pesquisa\n",
    "date_end = '2020-12-31' # Infome da  data final da pesquisa\n",
    "\n",
    "datetime.strptime(date_init, '%Y-%m-%d')\n",
    "\n",
    "datetime.strptime(date_end, '%Y-%m-%d')\n",
    "\n",
    "df = df.loc[(df['DATA_FATO']>=date_init) & (df['DATA_FATO']<date_end)]"
   ]
  },
  {
   "cell_type": "code",
   "execution_count": 71,
   "metadata": {},
   "outputs": [
    {
     "data": {
      "text/html": [
       "<div>\n",
       "<style scoped>\n",
       "    .dataframe tbody tr th:only-of-type {\n",
       "        vertical-align: middle;\n",
       "    }\n",
       "\n",
       "    .dataframe tbody tr th {\n",
       "        vertical-align: top;\n",
       "    }\n",
       "\n",
       "    .dataframe thead th {\n",
       "        text-align: right;\n",
       "    }\n",
       "</style>\n",
       "<table border=\"1\" class=\"dataframe\">\n",
       "  <thead>\n",
       "    <tr style=\"text-align: right;\">\n",
       "      <th></th>\n",
       "      <th>NREDS</th>\n",
       "      <th>COD_DIAO</th>\n",
       "      <th>T_C</th>\n",
       "      <th>COD_DELITO</th>\n",
       "      <th>T_C_DELITO</th>\n",
       "      <th>DATA_FATO</th>\n",
       "      <th>CIA</th>\n",
       "      <th>UEOP</th>\n",
       "      <th>QTDE_ENVOL</th>\n",
       "    </tr>\n",
       "  </thead>\n",
       "  <tbody>\n",
       "    <tr>\n",
       "      <th>9353</th>\n",
       "      <td>2020-000024038-001</td>\n",
       "      <td>B01121</td>\n",
       "      <td>CONSUMADO</td>\n",
       "      <td>B01121</td>\n",
       "      <td>CONSUMADO</td>\n",
       "      <td>2020-01-01</td>\n",
       "      <td>290ª CIA</td>\n",
       "      <td>63º BPM</td>\n",
       "      <td>1</td>\n",
       "    </tr>\n",
       "    <tr>\n",
       "      <th>9354</th>\n",
       "      <td>2020-000024038-001</td>\n",
       "      <td>B01121</td>\n",
       "      <td>CONSUMADO</td>\n",
       "      <td>B01121</td>\n",
       "      <td>CONSUMADO</td>\n",
       "      <td>2020-01-01</td>\n",
       "      <td>290ª CIA</td>\n",
       "      <td>63º BPM</td>\n",
       "      <td>1</td>\n",
       "    </tr>\n",
       "    <tr>\n",
       "      <th>9355</th>\n",
       "      <td>2020-000024038-001</td>\n",
       "      <td>B01121</td>\n",
       "      <td>CONSUMADO</td>\n",
       "      <td>B01121</td>\n",
       "      <td>CONSUMADO</td>\n",
       "      <td>2020-01-01</td>\n",
       "      <td>290ª CIA</td>\n",
       "      <td>63º BPM</td>\n",
       "      <td>1</td>\n",
       "    </tr>\n",
       "    <tr>\n",
       "      <th>9356</th>\n",
       "      <td>2020-000024038-001</td>\n",
       "      <td>B01121</td>\n",
       "      <td>CONSUMADO</td>\n",
       "      <td>B01121</td>\n",
       "      <td>CONSUMADO</td>\n",
       "      <td>2020-01-01</td>\n",
       "      <td>290ª CIA</td>\n",
       "      <td>63º BPM</td>\n",
       "      <td>1</td>\n",
       "    </tr>\n",
       "    <tr>\n",
       "      <th>9357</th>\n",
       "      <td>2020-000024038-001</td>\n",
       "      <td>B01121</td>\n",
       "      <td>CONSUMADO</td>\n",
       "      <td>B01121</td>\n",
       "      <td>CONSUMADO</td>\n",
       "      <td>2020-01-01</td>\n",
       "      <td>290ª CIA</td>\n",
       "      <td>63º BPM</td>\n",
       "      <td>1</td>\n",
       "    </tr>\n",
       "    <tr>\n",
       "      <th>...</th>\n",
       "      <td>...</td>\n",
       "      <td>...</td>\n",
       "      <td>...</td>\n",
       "      <td>...</td>\n",
       "      <td>...</td>\n",
       "      <td>...</td>\n",
       "      <td>...</td>\n",
       "      <td>...</td>\n",
       "      <td>...</td>\n",
       "    </tr>\n",
       "    <tr>\n",
       "      <th>12801</th>\n",
       "      <td>2020-028895311-001</td>\n",
       "      <td>B01121</td>\n",
       "      <td>CONSUMADO</td>\n",
       "      <td>B01129</td>\n",
       "      <td>CONSUMADO</td>\n",
       "      <td>2020-06-16</td>\n",
       "      <td>19ª CIA PM IND</td>\n",
       "      <td>19ª CIA PM IND</td>\n",
       "      <td>1</td>\n",
       "    </tr>\n",
       "    <tr>\n",
       "      <th>12846</th>\n",
       "      <td>2020-029479260-001</td>\n",
       "      <td>B01121</td>\n",
       "      <td>CONSUMADO</td>\n",
       "      <td>B01121</td>\n",
       "      <td>CONSUMADO</td>\n",
       "      <td>2020-06-19</td>\n",
       "      <td>19ª CIA PM IND</td>\n",
       "      <td>19ª CIA PM IND</td>\n",
       "      <td>1</td>\n",
       "    </tr>\n",
       "    <tr>\n",
       "      <th>12847</th>\n",
       "      <td>2020-029479260-001</td>\n",
       "      <td>B01121</td>\n",
       "      <td>CONSUMADO</td>\n",
       "      <td>B01121</td>\n",
       "      <td>CONSUMADO</td>\n",
       "      <td>2020-06-19</td>\n",
       "      <td>19ª CIA PM IND</td>\n",
       "      <td>19ª CIA PM IND</td>\n",
       "      <td>1</td>\n",
       "    </tr>\n",
       "    <tr>\n",
       "      <th>12848</th>\n",
       "      <td>2020-029479260-001</td>\n",
       "      <td>B01121</td>\n",
       "      <td>CONSUMADO</td>\n",
       "      <td>B01121</td>\n",
       "      <td>CONSUMADO</td>\n",
       "      <td>2020-06-19</td>\n",
       "      <td>19ª CIA PM IND</td>\n",
       "      <td>19ª CIA PM IND</td>\n",
       "      <td>1</td>\n",
       "    </tr>\n",
       "    <tr>\n",
       "      <th>12849</th>\n",
       "      <td>2020-029479260-001</td>\n",
       "      <td>B01121</td>\n",
       "      <td>CONSUMADO</td>\n",
       "      <td>B01121</td>\n",
       "      <td>CONSUMADO</td>\n",
       "      <td>2020-06-19</td>\n",
       "      <td>19ª CIA PM IND</td>\n",
       "      <td>19ª CIA PM IND</td>\n",
       "      <td>1</td>\n",
       "    </tr>\n",
       "  </tbody>\n",
       "</table>\n",
       "<p>325 rows × 9 columns</p>\n",
       "</div>"
      ],
      "text/plain": [
       "                    NREDS COD_DIAO        T_C COD_DELITO T_C_DELITO  \\\n",
       "9353   2020-000024038-001   B01121  CONSUMADO     B01121  CONSUMADO   \n",
       "9354   2020-000024038-001   B01121  CONSUMADO     B01121  CONSUMADO   \n",
       "9355   2020-000024038-001   B01121  CONSUMADO     B01121  CONSUMADO   \n",
       "9356   2020-000024038-001   B01121  CONSUMADO     B01121  CONSUMADO   \n",
       "9357   2020-000024038-001   B01121  CONSUMADO     B01121  CONSUMADO   \n",
       "...                   ...      ...        ...        ...        ...   \n",
       "12801  2020-028895311-001   B01121  CONSUMADO     B01129  CONSUMADO   \n",
       "12846  2020-029479260-001   B01121  CONSUMADO     B01121  CONSUMADO   \n",
       "12847  2020-029479260-001   B01121  CONSUMADO     B01121  CONSUMADO   \n",
       "12848  2020-029479260-001   B01121  CONSUMADO     B01121  CONSUMADO   \n",
       "12849  2020-029479260-001   B01121  CONSUMADO     B01121  CONSUMADO   \n",
       "\n",
       "       DATA_FATO             CIA            UEOP  QTDE_ENVOL  \n",
       "9353  2020-01-01        290ª CIA         63º BPM           1  \n",
       "9354  2020-01-01        290ª CIA         63º BPM           1  \n",
       "9355  2020-01-01        290ª CIA         63º BPM           1  \n",
       "9356  2020-01-01        290ª CIA         63º BPM           1  \n",
       "9357  2020-01-01        290ª CIA         63º BPM           1  \n",
       "...          ...             ...             ...         ...  \n",
       "12801 2020-06-16  19ª CIA PM IND  19ª CIA PM IND           1  \n",
       "12846 2020-06-19  19ª CIA PM IND  19ª CIA PM IND           1  \n",
       "12847 2020-06-19  19ª CIA PM IND  19ª CIA PM IND           1  \n",
       "12848 2020-06-19  19ª CIA PM IND  19ª CIA PM IND           1  \n",
       "12849 2020-06-19  19ª CIA PM IND  19ª CIA PM IND           1  \n",
       "\n",
       "[325 rows x 9 columns]"
      ]
     },
     "execution_count": 71,
     "metadata": {},
     "output_type": "execute_result"
    }
   ],
   "source": [
    "\n",
    "df"
   ]
  },
  {
   "cell_type": "code",
   "execution_count": 2,
   "metadata": {},
   "outputs": [
    {
     "ename": "NameError",
     "evalue": "name 'df' is not defined",
     "output_type": "error",
     "traceback": [
      "\u001b[1;31m---------------------------------------------------------------------------\u001b[0m",
      "\u001b[1;31mNameError\u001b[0m                                 Traceback (most recent call last)",
      "\u001b[1;32m<ipython-input-2-00cf07b74dcd>\u001b[0m in \u001b[0;36m<module>\u001b[1;34m\u001b[0m\n\u001b[1;32m----> 1\u001b[1;33m \u001b[0mdf\u001b[0m\u001b[1;33m\u001b[0m\u001b[1;33m\u001b[0m\u001b[0m\n\u001b[0m",
      "\u001b[1;31mNameError\u001b[0m: name 'df' is not defined"
     ]
    }
   ],
   "source": [
    "df"
   ]
  },
  {
   "cell_type": "code",
   "execution_count": 109,
   "metadata": {},
   "outputs": [
    {
     "ename": "TypeError",
     "evalue": "'DataFrame' object is not callable",
     "output_type": "error",
     "traceback": [
      "\u001b[1;31m---------------------------------------------------------------------------\u001b[0m",
      "\u001b[1;31mTypeError\u001b[0m                                 Traceback (most recent call last)",
      "\u001b[1;32m<ipython-input-109-dde5da0aa662>\u001b[0m in \u001b[0;36m<module>\u001b[1;34m\u001b[0m\n\u001b[0;32m      9\u001b[0m \u001b[1;33m\u001b[0m\u001b[0m\n\u001b[0;32m     10\u001b[0m df.query('COD_DIAO == \"B01121\" & T_C == \"CONSUMADO\" | COD_DELITO in [\"B01121\"] & T_C_DELITO == \"CONSUMADO\"',\n\u001b[1;32m---> 11\u001b[1;33m          inplace = False)\n\u001b[0m\u001b[0;32m     12\u001b[0m \u001b[1;33m\u001b[0m\u001b[0m\n\u001b[0;32m     13\u001b[0m \u001b[0mdf\u001b[0m\u001b[1;33m\u001b[0m\u001b[1;33m\u001b[0m\u001b[0m\n",
      "\u001b[1;31mTypeError\u001b[0m: 'DataFrame' object is not callable"
     ]
    }
   ],
   "source": [
    "date_init = '2020-01-01' # Infome da  data inicial da pesquisa\n",
    "date_end = '2020-12-31' # Infome da  data final da pesquisa\n",
    "\n",
    "datetime.strptime(date_init, '%Y-%m-%d')\n",
    "\n",
    "datetime.strptime(date_end, '%Y-%m-%d')\n",
    "\n",
    "df.query = df.loc[(df['DATA_FATO']>=date_init) & (df['DATA_FATO']<date_end)]\n",
    "\n",
    "df.query('COD_DIAO == \"B01121\" & T_C == \"CONSUMADO\" | COD_DELITO in [\"B01121\"] & T_C_DELITO == \"CONSUMADO\"',\n",
    "         inplace = False)\n",
    "\n",
    "df"
   ]
  }
 ],
 "metadata": {
  "kernelspec": {
   "display_name": "Python 3",
   "language": "python",
   "name": "python3"
  },
  "language_info": {
   "codemirror_mode": {
    "name": "ipython",
    "version": 3
   },
   "file_extension": ".py",
   "mimetype": "text/x-python",
   "name": "python",
   "nbconvert_exporter": "python",
   "pygments_lexer": "ipython3",
   "version": "3.7.7"
  }
 },
 "nbformat": 4,
 "nbformat_minor": 4
}
