{
 "cells": [
  {
   "cell_type": "code",
   "execution_count": 5,
   "metadata": {
    "scrolled": true
   },
   "outputs": [
    {
     "name": "stdout",
     "output_type": "stream",
     "text": [
      "2020-06-01 2020-05-31\n"
     ]
    }
   ],
   "source": [
    "import datetime as dt\n",
    "from dateutil.relativedelta import relativedelta\n",
    "#get first and last day of this and last month)\n",
    "today = dt.date.today()\n",
    "first_day_this_month = dt.date(day=1, month=today.month, year=today.year)\n",
    "last_day_last_month = first_day_this_month - relativedelta(days=1)\n",
    "print(first_day_this_month, last_day_last_month)\n"
   ]
  },
  {
   "cell_type": "code",
   "execution_count": 2,
   "metadata": {
    "scrolled": true
   },
   "outputs": [
    {
     "data": {
      "text/plain": [
       "'2012-01-31 00:00:00'"
      ]
     },
     "execution_count": 2,
     "metadata": {},
     "output_type": "execute_result"
    }
   ],
   "source": [
    "import pendulum\n",
    "\n",
    "dt = pendulum.datetime(2012, 1, 31)\n",
    "dt.to_datetime_string()"
   ]
  },
  {
   "cell_type": "code",
   "execution_count": 1,
   "metadata": {},
   "outputs": [
    {
     "data": {
      "text/plain": [
       "'2020-06-29'"
      ]
     },
     "execution_count": 1,
     "metadata": {},
     "output_type": "execute_result"
    }
   ],
   "source": [
    "from datetime import datetime, timedelta\n",
    "data = (datetime.today()- timedelta(days=1)).strftime('%Y-%m-%d')\n",
    "data"
   ]
  },
  {
   "cell_type": "code",
   "execution_count": 1,
   "metadata": {},
   "outputs": [],
   "source": [
    "import pandas as pd\n",
    "import numpy as np\n",
    "from datetime import datetime\n",
    "df = pd.read_sql_table('tbl_envolvidos', 'sqlite:///gdo.db',\n",
    "                       columns =['NREDS', 'COD_DIAO', 'T_C', 'COD_DELITO', 'T_C_DELITO','GRAU_LESAO','GRUPO_TIPO_ENVOL',\n",
    "                                 'DATA_FATO', 'MUNICIPIO','CIA', 'UEOP', 'QTDE_ENVOL'])"
   ]
  },
  {
   "cell_type": "code",
   "execution_count": 66,
   "metadata": {},
   "outputs": [
    {
     "data": {
      "text/plain": [
       "datetime.datetime(2020, 6, 30, 21, 5, 2, 970470)"
      ]
     },
     "execution_count": 66,
     "metadata": {},
     "output_type": "execute_result"
    }
   ],
   "source": [
    "from datetime import datetime, timedelta\n",
    "\n",
    "d = (datetime.today() - timedelta(days=1))#.strftime('%Y-%m-%d')\n",
    "datetime.today()"
   ]
  },
  {
   "cell_type": "code",
   "execution_count": 109,
   "metadata": {},
   "outputs": [
    {
     "name": "stdout",
     "output_type": "stream",
     "text": [
      "2020-06-30T00:00:00+00:00 2020-06-30T21:23:06.887982-03:00\n"
     ]
    }
   ],
   "source": [
    "import pendulum\n",
    "dt = pendulum.datetime(2020, 6, 30)\n",
    "dt.to_datetime_string()\n",
    "dt1 = pendulum.now()\n",
    "print(dt, dt1)"
   ]
  },
  {
   "cell_type": "code",
   "execution_count": 113,
   "metadata": {},
   "outputs": [
    {
     "name": "stdout",
     "output_type": "stream",
     "text": [
      "2019-01-01 2019-06-29 2020-01-01 2020-06-29\n"
     ]
    }
   ],
   "source": [
    "date_init_before = pendulum.now().subtract(years=1, months=(datetime.today() - timedelta(days=1)).month-1, days=(datetime.today() - timedelta(days=1)).day).strftime('%Y-%m-%d')\n",
    "date_ende_before = pendulum.now().subtract(years=1, days=1).strftime('%Y-%m-%d')\n",
    "\n",
    "date_init_actual = pendulum.now().subtract(months=(datetime.today() - timedelta(days=1)).month-1, days=(datetime.today() - timedelta(days=1)).day).strftime('%Y-%m-%d')\n",
    "date_ende_actual = pendulum.now().subtract(days=1).strftime('%Y-%m-%d')\n",
    "print(date_init_before, date_ende_before, date_init_actual, date_ende_actual)\n",
    "\n",
    "\n",
    "\n",
    "\n"
   ]
  },
  {
   "cell_type": "code",
   "execution_count": 24,
   "metadata": {},
   "outputs": [
    {
     "name": "stdout",
     "output_type": "stream",
     "text": [
      "2020-06-01 2020-05-31\n"
     ]
    }
   ],
   "source": [
    "import datetime as dt\n",
    "from dateutil.relativedelta import relativedelta\n",
    "#get first and last day of this and last month)\n",
    "today = dt.date.today()\n",
    "first_day_this_month = dt.date(day=1, month=today.month, year=today.year)\n",
    "last_day_last_month = first_day_this_month - relativedelta(days=1)\n",
    "print (first_day_this_month, last_day_last_month)"
   ]
  },
  {
   "cell_type": "code",
   "execution_count": 50,
   "metadata": {},
   "outputs": [
    {
     "data": {
      "text/plain": [
       "5"
      ]
     },
     "execution_count": 50,
     "metadata": {},
     "output_type": "execute_result"
    }
   ],
   "source": [
    "(datetime.today() - timedelta(days=1)).month-1\n"
   ]
  },
  {
   "cell_type": "code",
   "execution_count": 107,
   "metadata": {},
   "outputs": [
    {
     "data": {
      "text/plain": [
       "DateTime(2020, 6, 30, 21, 22, 15, 675900, tzinfo=Timezone('America/Sao_Paulo'))"
      ]
     },
     "execution_count": 107,
     "metadata": {},
     "output_type": "execute_result"
    }
   ],
   "source": [
    "from datetime import datetime\n",
    "\n",
    "pendulum.now()"
   ]
  }
 ],
 "metadata": {
  "kernelspec": {
   "display_name": "Python 3",
   "language": "python",
   "name": "python3"
  },
  "language_info": {
   "codemirror_mode": {
    "name": "ipython",
    "version": 3
   },
   "file_extension": ".py",
   "mimetype": "text/x-python",
   "name": "python",
   "nbconvert_exporter": "python",
   "pygments_lexer": "ipython3",
   "version": "3.7.6"
  }
 },
 "nbformat": 4,
 "nbformat_minor": 4
}
